{
 "cells": [
  {
   "cell_type": "code",
   "execution_count": 1,
   "metadata": {},
   "outputs": [],
   "source": [
    "from sgps import StretchedGridPoisson\n",
    "import numpy as np\n",
    "from matplotlib import pyplot as plt"
   ]
  },
  {
   "cell_type": "code",
   "execution_count": 51,
   "metadata": {},
   "outputs": [],
   "source": [
    "stretchedGrid = True\n",
    "stretchedName = '_stretchedGrid_' if stretchedGrid else '_evenGrid_'\n",
    "numOfIt = 1000\n",
    "filename = './output/sgpsClassTest/' + stretchedName + 'iter' + str(numOfIt) + '.npz'"
   ]
  },
  {
   "cell_type": "code",
   "execution_count": 52,
   "metadata": {},
   "outputs": [
    {
     "name": "stdout",
     "output_type": "stream",
     "text": [
      "86 87\n",
      "86 87\n",
      "86 87\n"
     ]
    }
   ],
   "source": [
    "# Defining the domain, can be uneven\n",
    "# The x, y, and z values defined below are grid centers\n",
    "dx = 1000 # m\n",
    "dy = 1000 # m\n",
    "\n",
    "nx = 86 # 100\n",
    "ny = 86 # 100\n",
    "nz = 86 #100\n",
    "\n",
    "# x = dx*np.arange(0,nx)\n",
    "# y = dz*np.arange(0,ny)\n",
    "\n",
    "# Stretched grid to match Shelby's stretched grid\n",
    "if stretchedGrid:\n",
    "    z = np.array(\n",
    "    [   50.0,  153.94739 ,   265.7895  ,   385.52637,    513.15796,\n",
    "       648.68427,    792.10535,    943.42114,   1102.6316,    1269.7368,\n",
    "      1444.7369,    1627.6317,    1818.4211,    2017.1055,    2223.6843,\n",
    "      2438.1582,    2660.5264,    2890.7896,    3128.9475,    3375.,\n",
    "      3625. ,       3875. ,       4125. ,       4375. ,       4625.,\n",
    "      4875. ,       5125. ,       5375. ,       5625. ,       5875.,\n",
    "      6125. ,       6375. ,       6625. ,       6875. ,       7125.,\n",
    "      7375. ,       7625. ,       7875. ,       8125. ,       8375.,\n",
    "      8625. ,       8875. ,       9125. ,       9375. ,       9625.,\n",
    "      9875. ,      10125. ,      10375. ,      10625. ,      10875.,\n",
    "     11125. ,      11375. ,      11625. ,      11875. ,      12125.,\n",
    "     12375. ,      12625. ,      12875. ,      13125. ,      13375.,\n",
    "     13625. ,      13875. ,      14125. ,      14375. ,      14625.,\n",
    "     14875. ,      15125. ,      15375. ,      15625. ,      15875.,\n",
    "     16125. ,      16375. ,      16625. ,      16875. ,      17125.,\n",
    "     17375. ,      17625. ,      17875. ,      18125. ,      18375.,\n",
    "     18625. ,      18875. ,      19125. ,      19375. ,      19625.,\n",
    "     19875. ]\n",
    "    )/10000.\n",
    "else:\n",
    "    z = np.arange(50,19625,(19625-50)/nz)/10000\n",
    "    \n",
    "x = z.copy()\n",
    "y = z.copy()\n",
    "\n",
    "X = centersToEdges(x)\n",
    "Y = centersToEdges(y)\n",
    "Z = centersToEdges(z)"
   ]
  },
  {
   "cell_type": "code",
   "execution_count": 64,
   "metadata": {},
   "outputs": [],
   "source": [
    "phi = np.zeros((nx,ny,nz))\n",
    "f = phi.copy()\n",
    "\n",
    "sgps = StretchedGridPoisson(x,y,z,phi,f)\n",
    "botBoundary = 100*np.ones((nx,ny))\n",
    "frontBoundary = 100*np.ones((nx,nz))\n",
    "sgps.setDirichlet(botBoundary,\"bottom\")\n",
    "sgps.setDirichlet(frontBoundary,\"front\")\n",
    "\n",
    "def neumBac(x,y,z,phi,f):\n",
    "    return 1000.\n",
    "\n",
    "sgps.setNeumann(neumBac,\"back\")"
   ]
  },
  {
   "cell_type": "code",
   "execution_count": 65,
   "metadata": {},
   "outputs": [
    {
     "name": "stdout",
     "output_type": "stream",
     "text": [
      "Iteration:  0\n",
      "Iteration:  200\n",
      "Iteration:  400\n",
      "Iteration:  600\n",
      "Iteration:  800\n"
     ]
    }
   ],
   "source": [
    "sgps.solvePoisson(numOfIt)"
   ]
  },
  {
   "cell_type": "code",
   "execution_count": 66,
   "metadata": {},
   "outputs": [
    {
     "data": {
      "image/png": "[encoded data removed]",
      "text/plain": [
       "<Figure size 432x288 with 2 Axes>"
      ]
     },
     "metadata": {
      "needs_background": "light"
     },
     "output_type": "display_data"
    }
   ],
   "source": [
    "im = plt.pcolormesh(Y,Z,np.transpose(sgps.soln[np.int(nx/2),:,:]))\n",
    "cb = plt.colorbar(im)"
   ]
  },
  {
   "cell_type": "code",
   "execution_count": null,
   "metadata": {},
   "outputs": [],
   "source": []
  }
 ],
 "metadata": {
  "kernelspec": {
   "display_name": "Python 3",
   "language": "python",
   "name": "python3"
  },
  "language_info": {
   "codemirror_mode": {
    "name": "ipython",
    "version": 3
   },
   "file_extension": ".py",
   "mimetype": "text/x-python",
   "name": "python",
   "nbconvert_exporter": "python",
   "pygments_lexer": "ipython3",
   "version": "3.7.4"
  }
 },
 "nbformat": 4,
 "nbformat_minor": 2
}
